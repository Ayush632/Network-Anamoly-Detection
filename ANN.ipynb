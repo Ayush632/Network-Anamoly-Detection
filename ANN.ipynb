{
 "cells": [
  {
   "cell_type": "code",
   "execution_count": 1,
   "metadata": {
    "id": "CQyOUOhFMljv"
   },
   "outputs": [
    {
     "name": "stderr",
     "output_type": "stream",
     "text": [
      "Using TensorFlow backend.\n"
     ]
    }
   ],
   "source": [
    "import pandas as pd\n",
    "import numpy as np\n",
    "import json, csv\n",
    "from sklearn.preprocessing import normalize\n",
    "from sklearn.decomposition import PCA\n",
    "from keras.models import load_model\n"
   ]
  },
  {
   "cell_type": "code",
   "execution_count": 2,
   "metadata": {
    "id": "0EuQ40_VMljy"
   },
   "outputs": [],
   "source": [
    "with open('mappings.json') as f: MAPPINGS = json.load(f)\n",
    "FLAG          = MAPPINGS['flag']\n",
    "SERVICE       = MAPPINGS['service']\n",
    "PROTOCOL_TYPE = MAPPINGS['protocol_type']"
   ]
  },
  {
   "cell_type": "code",
   "execution_count": 3,
   "metadata": {
    "id": "kcMUbWbPMljy"
   },
   "outputs": [],
   "source": [
    "train_data=pd.read_csv('kdd_train.csv')\n",
    "train_data['protocol_type'] = train_data['protocol_type'].map(PROTOCOL_TYPE)\n",
    "train_data['flag']          = train_data['flag'].map(FLAG)\n",
    "train_data['service']       = train_data['service'].map(SERVICE)"
   ]
  },
  {
   "cell_type": "code",
   "execution_count": 4,
   "metadata": {
    "colab": {
     "base_uri": "https://localhost:8080/"
    },
    "id": "t3WIZY1OMljz",
    "outputId": "f67205e6-a3fa-4141-fd3e-d3b3a1e35d29"
   },
   "outputs": [
    {
     "data": {
      "text/plain": [
       "array(['normal', 'neptune', 'warezclient', 'ipsweep', 'portsweep',\n",
       "       'teardrop', 'nmap', 'satan', 'smurf', 'pod', 'back',\n",
       "       'guess_passwd', 'ftp_write', 'multihop', 'rootkit',\n",
       "       'buffer_overflow', 'imap', 'warezmaster', 'phf', 'land',\n",
       "       'loadmodule', 'spy', 'perl'], dtype=object)"
      ]
     },
     "execution_count": 4,
     "metadata": {},
     "output_type": "execute_result"
    }
   ],
   "source": [
    "train_data['labels'].unique()"
   ]
  },
  {
   "cell_type": "code",
   "execution_count": 5,
   "metadata": {
    "id": "Hnd6Qru6Mljz"
   },
   "outputs": [],
   "source": [
    "DOS_lis=['back','land','neptune','pod','smurf','teardrop']\n",
    "Probe_lis=['ipsweep','portsweep','nmap','satan']\n",
    "R2l_lis=['guess_passwd','ftp_write','imap','phf','multihop','warezmaster']\n",
    "U2R_lis=['buffer_overflow','loadmodule','rootkit','perl']\n",
    "other_lis=['warezclient','spy']"
   ]
  },
  {
   "cell_type": "code",
   "execution_count": 6,
   "metadata": {
    "id": "Xda6LlsVMlj0"
   },
   "outputs": [],
   "source": [
    "d = train_data['labels'].isin(DOS_lis)\n",
    "p=train_data['labels'].isin(Probe_lis)\n",
    "r=train_data['labels'].isin(R2l_lis)\n",
    "u=train_data['labels'].isin(U2R_lis)\n",
    "o=train_data['labels'].isin(other_lis)"
   ]
  },
  {
   "cell_type": "code",
   "execution_count": 7,
   "metadata": {
    "id": "naAEx5cJMlj0"
   },
   "outputs": [],
   "source": [
    "train_data['labels']=train_data['labels'].mask(d,'DOS')\n",
    "train_data['labels']=train_data['labels'].mask(p,'Probe')\n",
    "train_data['labels']=train_data['labels'].mask(r,'R2L')\n",
    "train_data['labels']=train_data['labels'].mask(u,'U2R')\n",
    "train_data['labels']=train_data['labels'].mask(o,'Other')"
   ]
  },
  {
   "cell_type": "code",
   "execution_count": 8,
   "metadata": {
    "colab": {
     "base_uri": "https://localhost:8080/"
    },
    "id": "u9vKodtlMlj0",
    "outputId": "0dc1ec15-9213-4974-9c2c-7a2bcb221add"
   },
   "outputs": [
    {
     "data": {
      "text/plain": [
       "array(['normal', 'DOS', 'Other', 'Probe', 'R2L', 'U2R'], dtype=object)"
      ]
     },
     "execution_count": 8,
     "metadata": {},
     "output_type": "execute_result"
    }
   ],
   "source": [
    "train_data['labels'].unique()"
   ]
  },
  {
   "cell_type": "code",
   "execution_count": 10,
   "metadata": {
    "id": "L1zwlD-jMlj1"
   },
   "outputs": [],
   "source": [
    "features = train_data.columns.tolist()[:-1]\n",
    "# X_DOS=DOS_train_data[features]\n",
    "# X_Other=Other_train_data[features]\n",
    "# X_Probe=Probe_train_data[features]\n",
    "# X_R2L=R2L_train_data[features]\n",
    "# X_U2R=u2R_train_data[features]\n",
    "\n"
   ]
  },
  {
   "cell_type": "code",
   "execution_count": 12,
   "metadata": {
    "colab": {
     "base_uri": "https://localhost:8080/"
    },
    "id": "gDYiL7UuMlj1",
    "outputId": "5d4f7b81-3be1-4b02-9df8-fa80af8d05b9"
   },
   "outputs": [
    {
     "data": {
      "text/plain": [
       "PCA(n_components=5)"
      ]
     },
     "execution_count": 12,
     "metadata": {},
     "output_type": "execute_result"
    }
   ],
   "source": [
    "X_train=train_data[features]\n",
    "X_normalized, norms = normalize(X_train, norm='l2', return_norm=True)\n",
    "pca= PCA(n_components=5) \n",
    "pca.fit(X_normalized)"
   ]
  },
  {
   "cell_type": "code",
   "execution_count": 14,
   "metadata": {
    "id": "8p7bLI4UMlj2"
   },
   "outputs": [],
   "source": [
    "from numpy.random import seed\n",
    "#from tensorflow import set_random_seed\n",
    "from keras.layers import Input,Dropout\n",
    "from keras.layers.core import Dense\n",
    "from keras.models import Model,Sequential,load_model\n",
    "from keras import regularizers\n",
    "from keras.models import model_from_json"
   ]
  },
  {
   "cell_type": "code",
   "execution_count": 27,
   "metadata": {
    "colab": {
     "base_uri": "https://localhost:8080/"
    },
    "id": "-QAyMD_IMlj5",
    "outputId": "fce9faf3-07ee-4d50-9ca5-5c5593c92591"
   },
   "outputs": [
    {
     "name": "stdout",
     "output_type": "stream",
     "text": [
      "[[1 0 0 0 0]\n",
      " [1 0 0 0 0]\n",
      " [1 0 0 0 0]\n",
      " ...\n",
      " [1 0 0 0 0]\n",
      " [1 0 0 0 0]\n",
      " [1 0 0 0 0]]\n"
     ]
    }
   ],
   "source": [
    "import keras\n",
    "anomaly_train_data=train_data.loc[train_data['labels']!='normal']\n",
    "#anomaly_train_data=train_data.loc[train_data['labels']!='Other']\n",
    "X_train_anomaly=anomaly_train_data[features]\n",
    "X_normalized_anomaly, norms = normalize(X_train_anomaly, norm='l2', return_norm=True)\n",
    "X_reduced_anomaly=pca.transform(X_normalized_anomaly)\n",
    "Y=anomaly_train_data['labels']\n",
    "Y_train=pd.get_dummies(Y).values\n",
    "print(Y_train)"
   ]
  },
  {
   "cell_type": "code",
   "execution_count": 28,
   "metadata": {
    "colab": {
     "base_uri": "https://localhost:8080/"
    },
    "id": "BK_Ma5sVMlj5",
    "outputId": "9ab37656-75d2-4d2d-b33f-e0973acdd61e"
   },
   "outputs": [
    {
     "name": "stdout",
     "output_type": "stream",
     "text": [
      "['DOS' 'Other' 'Probe' 'R2L' 'U2R']\n"
     ]
    }
   ],
   "source": [
    "print(Y.unique())"
   ]
  },
  {
   "cell_type": "code",
   "execution_count": 29,
   "metadata": {
    "id": "l5_kURA7Mlj6"
   },
   "outputs": [],
   "source": [
    "seed(10)\n",
    "act_func='elu'\n",
    "model=Sequential()\n",
    "model.add(Dense(8,activation=act_func,kernel_initializer='glorot_uniform',kernel_regularizer=regularizers.l2(0.0),input_shape=(X_reduced_anomaly.shape[1],)))\n",
    "model.add(Dense(8,activation=act_func,kernel_initializer='glorot_uniform'))\n",
    "model.add(Dense(5,activation='softmax',kernel_initializer='glorot_uniform'))\n",
    "model.compile(loss='categorical_crossentropy',optimizer='adam')\n",
    "NUM_EPOCHS=30\n",
    "BATCH_SIZE=10"
   ]
  },
  {
   "cell_type": "code",
   "execution_count": 30,
   "metadata": {
    "colab": {
     "base_uri": "https://localhost:8080/"
    },
    "id": "g-OHxp5HMlj6",
    "outputId": "63119e91-0671-4b09-cbdb-69afd717d1b9"
   },
   "outputs": [
    {
     "name": "stdout",
     "output_type": "stream",
     "text": [
      "Train on 55698 samples, validate on 2932 samples\n",
      "Epoch 1/50\n",
      "55698/55698 [==============================] - 8s 145us/step - loss: 0.3434 - val_loss: 0.2553\n",
      "Epoch 2/50\n",
      "55698/55698 [==============================] - 8s 141us/step - loss: 0.2414 - val_loss: 0.2195\n",
      "Epoch 3/50\n",
      "55698/55698 [==============================] - 8s 141us/step - loss: 0.2194 - val_loss: 0.2052\n",
      "Epoch 4/50\n",
      "55698/55698 [==============================] - 9s 163us/step - loss: 0.2093 - val_loss: 0.1967\n",
      "Epoch 5/50\n",
      "55698/55698 [==============================] - 9s 163us/step - loss: 0.1993 - val_loss: 0.1882\n",
      "Epoch 6/50\n",
      "55698/55698 [==============================] - 8s 152us/step - loss: 0.1909 - val_loss: 0.1831\n",
      "Epoch 7/50\n",
      "55698/55698 [==============================] - 8s 143us/step - loss: 0.1843 - val_loss: 0.1736\n",
      "Epoch 8/50\n",
      "55698/55698 [==============================] - 9s 153us/step - loss: 0.1717 - val_loss: 0.1551\n",
      "Epoch 9/50\n",
      "55698/55698 [==============================] - 8s 141us/step - loss: 0.1578 - val_loss: 0.1509\n",
      "Epoch 10/50\n",
      "55698/55698 [==============================] - 8s 143us/step - loss: 0.1514 - val_loss: 0.1421\n",
      "Epoch 11/50\n",
      "55698/55698 [==============================] - 8s 144us/step - loss: 0.1480 - val_loss: 0.1386\n",
      "Epoch 12/50\n",
      "55698/55698 [==============================] - 8s 146us/step - loss: 0.1449 - val_loss: 0.1349\n",
      "Epoch 13/50\n",
      "55698/55698 [==============================] - 8s 147us/step - loss: 0.1425 - val_loss: 0.1360\n",
      "Epoch 14/50\n",
      "55698/55698 [==============================] - 8s 143us/step - loss: 0.1408 - val_loss: 0.1344\n",
      "Epoch 15/50\n",
      "55698/55698 [==============================] - 10s 175us/step - loss: 0.1395 - val_loss: 0.1306\n",
      "Epoch 16/50\n",
      "55698/55698 [==============================] - 9s 170us/step - loss: 0.1377 - val_loss: 0.1299\n",
      "Epoch 17/50\n",
      "55698/55698 [==============================] - 8s 143us/step - loss: 0.1368 - val_loss: 0.1279\n",
      "Epoch 18/50\n",
      "55698/55698 [==============================] - 8s 140us/step - loss: 0.1357 - val_loss: 0.1268\n",
      "Epoch 19/50\n",
      "55698/55698 [==============================] - 8s 143us/step - loss: 0.1347 - val_loss: 0.1316\n",
      "Epoch 20/50\n",
      "55698/55698 [==============================] - 8s 142us/step - loss: 0.1339 - val_loss: 0.1241\n",
      "Epoch 21/50\n",
      "55698/55698 [==============================] - 8s 141us/step - loss: 0.1331 - val_loss: 0.1241\n",
      "Epoch 22/50\n",
      "55698/55698 [==============================] - 8s 142us/step - loss: 0.1318 - val_loss: 0.1206\n",
      "Epoch 23/50\n",
      "55698/55698 [==============================] - 8s 144us/step - loss: 0.1309 - val_loss: 0.1206\n",
      "Epoch 24/50\n",
      "55698/55698 [==============================] - 8s 147us/step - loss: 0.1309 - val_loss: 0.1217\n",
      "Epoch 25/50\n",
      "55698/55698 [==============================] - 8s 141us/step - loss: 0.1301 - val_loss: 0.1228\n",
      "Epoch 26/50\n",
      "55698/55698 [==============================] - 8s 143us/step - loss: 0.1293 - val_loss: 0.1186\n",
      "Epoch 27/50\n",
      "55698/55698 [==============================] - 8s 152us/step - loss: 0.1283 - val_loss: 0.1193\n",
      "Epoch 28/50\n",
      "55698/55698 [==============================] - 8s 141us/step - loss: 0.1278 - val_loss: 0.1169\n",
      "Epoch 29/50\n",
      "55698/55698 [==============================] - 8s 140us/step - loss: 0.1268 - val_loss: 0.1276\n",
      "Epoch 30/50\n",
      "55698/55698 [==============================] - 8s 145us/step - loss: 0.1265 - val_loss: 0.1173\n",
      "Epoch 31/50\n",
      "55698/55698 [==============================] - 8s 140us/step - loss: 0.1260 - val_loss: 0.1144\n",
      "Epoch 32/50\n",
      "55698/55698 [==============================] - 8s 140us/step - loss: 0.1249 - val_loss: 0.1162\n",
      "Epoch 33/50\n",
      "55698/55698 [==============================] - 8s 140us/step - loss: 0.1242 - val_loss: 0.1142\n",
      "Epoch 34/50\n",
      "55698/55698 [==============================] - 8s 139us/step - loss: 0.1238 - val_loss: 0.1113\n",
      "Epoch 35/50\n",
      "55698/55698 [==============================] - 8s 142us/step - loss: 0.1229 - val_loss: 0.1108\n",
      "Epoch 36/50\n",
      "55698/55698 [==============================] - 8s 139us/step - loss: 0.1224 - val_loss: 0.1130\n",
      "Epoch 37/50\n",
      "55698/55698 [==============================] - 8s 139us/step - loss: 0.1223 - val_loss: 0.1104\n",
      "Epoch 38/50\n",
      "55698/55698 [==============================] - 8s 144us/step - loss: 0.1216 - val_loss: 0.1091\n",
      "Epoch 39/50\n",
      "55698/55698 [==============================] - 9s 156us/step - loss: 0.1209 - val_loss: 0.1103\n",
      "Epoch 40/50\n",
      "55698/55698 [==============================] - 7s 129us/step - loss: 0.1202 - val_loss: 0.1106\n",
      "Epoch 41/50\n",
      "55698/55698 [==============================] - 8s 139us/step - loss: 0.1202 - val_loss: 0.1145\n",
      "Epoch 42/50\n",
      "55698/55698 [==============================] - 8s 143us/step - loss: 0.1196 - val_loss: 0.1107\n",
      "Epoch 43/50\n",
      "55698/55698 [==============================] - 8s 147us/step - loss: 0.1193 - val_loss: 0.1079\n",
      "Epoch 44/50\n",
      "55698/55698 [==============================] - 8s 142us/step - loss: 0.1188 - val_loss: 0.1091\n",
      "Epoch 45/50\n",
      "55698/55698 [==============================] - 8s 143us/step - loss: 0.1190 - val_loss: 0.1067\n",
      "Epoch 46/50\n",
      "55698/55698 [==============================] - 8s 149us/step - loss: 0.1184 - val_loss: 0.1060\n",
      "Epoch 47/50\n",
      "55698/55698 [==============================] - 9s 153us/step - loss: 0.1179 - val_loss: 0.1110\n",
      "Epoch 48/50\n",
      "55698/55698 [==============================] - 8s 141us/step - loss: 0.1177 - val_loss: 0.1086\n",
      "Epoch 49/50\n",
      "55698/55698 [==============================] - 8s 142us/step - loss: 0.1176 - val_loss: 0.1104\n",
      "Epoch 50/50\n",
      "55698/55698 [==============================] - 8s 145us/step - loss: 0.1170 - val_loss: 0.1064\n"
     ]
    }
   ],
   "source": [
    "history=model.fit(np.array(X_reduced_anomaly),Y_train,batch_size=BATCH_SIZE,epochs=50,validation_split=0.05,verbose=1)"
   ]
  },
  {
   "cell_type": "code",
   "execution_count": 31,
   "metadata": {
    "id": "aeipjLakMlj6"
   },
   "outputs": [],
   "source": [
    "model.save('network2.h5')"
   ]
  },
  {
   "cell_type": "code",
   "execution_count": 46,
   "metadata": {
    "id": "TCW61EJIMlj6"
   },
   "outputs": [],
   "source": [
    "y_pred=model.predict(X_reduced_anomaly)"
   ]
  },
  {
   "cell_type": "code",
   "execution_count": 47,
   "metadata": {
    "id": "SBZdkhCDMlj6"
   },
   "outputs": [],
   "source": [
    "y_train_class=np.argmax(Y_train,axis=1)"
   ]
  },
  {
   "cell_type": "code",
   "execution_count": 48,
   "metadata": {
    "id": "rBM6zJ6cMlj6"
   },
   "outputs": [],
   "source": [
    "y_pred_class=np.argmax(y_pred,axis=1)"
   ]
  },
  {
   "cell_type": "code",
   "execution_count": 49,
   "metadata": {
    "id": "XArvb2D1Mlj6"
   },
   "outputs": [],
   "source": [
    "from sklearn.metrics import classification_report,confusion_matrix"
   ]
  },
  {
   "cell_type": "code",
   "execution_count": 50,
   "metadata": {
    "colab": {
     "base_uri": "https://localhost:8080/"
    },
    "id": "ElozTV7rMlj6",
    "outputId": "b7b3a866-e3ae-4683-eb85-60ce7bd36722"
   },
   "outputs": [
    {
     "name": "stdout",
     "output_type": "stream",
     "text": [
      "              precision    recall  f1-score   support\n",
      "\n",
      "           0       0.97      0.98      0.97     45927\n",
      "           1       0.81      0.94      0.87       892\n",
      "           2       0.92      0.88      0.90     11656\n",
      "           3       0.64      0.72      0.68       103\n",
      "           4       0.64      0.13      0.22        52\n",
      "\n",
      "    accuracy                           0.96     58630\n",
      "   macro avg       0.80      0.73      0.73     58630\n",
      "weighted avg       0.96      0.96      0.96     58630\n",
      "\n",
      "[[44984   127   810     6     0]\n",
      " [    5   835    51     1     0]\n",
      " [ 1363    39 10242    12     0]\n",
      " [    7     9     9    74     4]\n",
      " [    2    16     5    22     7]]\n"
     ]
    }
   ],
   "source": [
    "print(classification_report(y_train_class,y_pred_class))\n",
    "print(confusion_matrix(y_train_class,y_pred_class))"
   ]
  },
  {
   "cell_type": "code",
   "execution_count": 51,
   "metadata": {
    "id": "6eVm1aj9Mlj6"
   },
   "outputs": [],
   "source": [
    "test_data=pd.read_csv('kdd_test.csv')\n",
    "test_data['protocol_type'] = test_data['protocol_type'].map(PROTOCOL_TYPE)\n",
    "test_data['flag']          = test_data['flag'].map(FLAG)\n",
    "test_data['service']       = test_data['service'].map(SERVICE)"
   ]
  },
  {
   "cell_type": "code",
   "execution_count": 52,
   "metadata": {
    "id": "A8Od6j6tMlj6"
   },
   "outputs": [],
   "source": [
    "DOS_lis=['back','land','neptune','pod','smurf','teardrop','mailbomb','processtable','udpstorm','apache2','worm']\n",
    "Probe_lis=['ipsweep','portsweep','nmap','satan','nmap','mscan','saint']\n",
    "R2l_lis=['guess_passwd','ftp_write','imap','phf','multihop','warezmaster','xlock','xsnoop','snmpguess','snmpgetattack','httptunnel','sendmail','named']\n",
    "U2R_lis=['buffer_overflow','loadmodule','rootkit','perl','sqlattack','xterm','ps']\n",
    "other_lis=['warezclient','spy']"
   ]
  },
  {
   "cell_type": "code",
   "execution_count": 53,
   "metadata": {
    "id": "qtRCieiMMlj6"
   },
   "outputs": [],
   "source": [
    "d = test_data['labels'].isin(DOS_lis)\n",
    "p=test_data['labels'].isin(Probe_lis)\n",
    "r=test_data['labels'].isin(R2l_lis)\n",
    "u=test_data['labels'].isin(U2R_lis)\n",
    "o=test_data['labels'].isin(other_lis)"
   ]
  },
  {
   "cell_type": "code",
   "execution_count": 54,
   "metadata": {
    "id": "dRrTjSOhMlj6"
   },
   "outputs": [],
   "source": [
    "test_data['labels']=test_data['labels'].mask(d,'DOS')\n",
    "test_data['labels']=test_data['labels'].mask(p,'Probe')\n",
    "test_data['labels']=test_data['labels'].mask(r,'R2L')\n",
    "test_data['labels']=test_data['labels'].mask(u,'U2R')\n",
    "test_data['labels']=test_data['labels'].mask(o,'Other')"
   ]
  },
  {
   "cell_type": "code",
   "execution_count": 55,
   "metadata": {
    "id": "Rv_c_Ze6Mlj6"
   },
   "outputs": [],
   "source": [
    "anomaly_test_data=test_data.loc[test_data['labels']!='normal']\n",
    "X_test_anomaly=anomaly_test_data[features]\n",
    "Xt_normalized_anomaly, norms = normalize(X_test_anomaly, norm='l2', return_norm=True)\n",
    "Xt_reduced_anomaly=pca.transform(Xt_normalized_anomaly)\n",
    "Yt=anomaly_test_data['labels']\n",
    "Y_test=pd.get_dummies(Yt).values"
   ]
  },
  {
   "cell_type": "code",
   "execution_count": 56,
   "metadata": {
    "colab": {
     "base_uri": "https://localhost:8080/"
    },
    "id": "VPeUXGT5Mlj6",
    "outputId": "72f5383d-68b9-4b92-a604-865b7548bea0"
   },
   "outputs": [
    {
     "name": "stdout",
     "output_type": "stream",
     "text": [
      "['Probe' 'DOS' 'R2L' 'Other' 'U2R']\n"
     ]
    }
   ],
   "source": [
    "print(Yt.unique())"
   ]
  },
  {
   "cell_type": "code",
   "execution_count": 57,
   "metadata": {
    "id": "8-Em5hDkMlj7"
   },
   "outputs": [],
   "source": [
    "yt_pred=model.predict(Xt_reduced_anomaly)"
   ]
  },
  {
   "cell_type": "code",
   "execution_count": 58,
   "metadata": {
    "id": "0pChMZx6Mlj7"
   },
   "outputs": [],
   "source": [
    "y_test_class=np.argmax(Y_test,axis=1)\n",
    "yt_pred_class=np.argmax(yt_pred,axis=1)"
   ]
  },
  {
   "cell_type": "code",
   "execution_count": 59,
   "metadata": {
    "colab": {
     "base_uri": "https://localhost:8080/"
    },
    "id": "ieFMeisCMlj8",
    "outputId": "ad616b40-8782-4a3f-c7d8-9b009a911b68"
   },
   "outputs": [
    {
     "name": "stdout",
     "output_type": "stream",
     "text": [
      "              precision    recall  f1-score   support\n",
      "\n",
      "           0       0.94      0.94      0.94      8095\n",
      "           1       0.26      0.94      0.40       107\n",
      "           2       0.64      0.81      0.71      2157\n",
      "           3       0.52      0.03      0.05       902\n",
      "           4       0.60      0.08      0.14        38\n",
      "\n",
      "    accuracy                           0.84     11299\n",
      "   macro avg       0.59      0.56      0.45     11299\n",
      "weighted avg       0.84      0.84      0.82     11299\n",
      "\n",
      "[[7587  169  338    1    0]\n",
      " [   2  101    4    0    0]\n",
      " [ 400    5 1748    4    0]\n",
      " [ 123  106  646   25    2]\n",
      " [   2   11    4   18    3]]\n"
     ]
    }
   ],
   "source": [
    "print(classification_report(y_test_class,yt_pred_class))\n",
    "print(confusion_matrix(y_test_class,yt_pred_class))"
   ]
  },
  {
   "cell_type": "code",
   "execution_count": null,
   "metadata": {
    "id": "2J6FxPsGMlj8"
   },
   "outputs": [],
   "source": []
  }
 ],
 "metadata": {
  "colab": {
   "collapsed_sections": [],
   "name": "Nokia_part4.ipynb",
   "provenance": []
  },
  "kernelspec": {
   "display_name": "Python 3",
   "language": "python",
   "name": "python3"
  },
  "language_info": {
   "codemirror_mode": {
    "name": "ipython",
    "version": 3
   },
   "file_extension": ".py",
   "mimetype": "text/x-python",
   "name": "python",
   "nbconvert_exporter": "python",
   "pygments_lexer": "ipython3",
   "version": "3.7.1"
  }
 },
 "nbformat": 4,
 "nbformat_minor": 1
}
